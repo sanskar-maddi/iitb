{
  "nbformat": 4,
  "nbformat_minor": 0,
  "metadata": {
    "colab": {
      "name": "burn profile",
      "provenance": [],
      "collapsed_sections": []
    },
    "kernelspec": {
      "name": "python3",
      "display_name": "Python 3"
    },
    "language_info": {
      "name": "python"
    }
  },
  "cells": [
    {
      "cell_type": "code",
      "metadata": {
        "id": "J4r4GEHOvneG"
      },
      "source": [
        "%matplotlib inline\n",
        "import matplotlib.pyplot as plt\n",
        "import matplotlib.gridspec as gridspec\n",
        "import numpy as np\n",
        "\n",
        "g0 = 9.81"
      ],
      "execution_count": 1,
      "outputs": []
    },
    {
      "cell_type": "code",
      "metadata": {
        "id": "ZJ8UO-BMymao"
      },
      "source": [
        "t1=np.linspace(0,108,500)\n",
        "t2=np.linspace(108,400,500)\n",
        "t3=np.linspace(400,940,500)\n",
        "\n",
        "mb1=286.4*1000-(258.974359+1203.703704)*t1\n",
        "beta1=np.ones(500)*(258.974359+1203.703704)"
      ],
      "execution_count": 2,
      "outputs": []
    },
    {
      "cell_type": "code",
      "metadata": {
        "id": "E1uJPVdR1pxu"
      },
      "source": [
        "def const_q(q0, thi, m0, t, Isp):\n",
        "    th0 = np.deg2rad(thi)\n",
        "    th = th0 + q0*t\n",
        "    m = m0/np.exp(((2*g0)/(q0*g0*Isp))*(np.sin(th) - np.sin(th0)))\n",
        "    return m"
      ],
      "execution_count": 3,
      "outputs": []
    },
    {
      "cell_type": "code",
      "metadata": {
        "id": "rkv_HNWe1pxv"
      },
      "source": [
        "def const_n(n0, m0,t , Isp):\n",
        "    m = m0/np.exp((n0*g0*t)/(g0*Isp))\n",
        "    return m"
      ],
      "execution_count": 4,
      "outputs": []
    },
    {
      "cell_type": "code",
      "metadata": {
        "id": "NIPXvt1P3fGB"
      },
      "source": [
        "mb2=const_q(0.003581272828,29,107.4307692*1000,t2-108,440)\n",
        "mb3=const_n(1.687449383,34.4*1000,t3-400,448)"
      ],
      "execution_count": 5,
      "outputs": []
    },
    {
      "cell_type": "code",
      "metadata": {
        "colab": {
          "base_uri": "https://localhost:8080/",
          "height": 312
        },
        "id": "PkOjyvQy4-8n",
        "outputId": "202041c7-f1db-4156-af37-fd8945097eba"
      },
      "source": [
        "plt.plot(t1,mb1)\n",
        "plt.plot(t2,mb2)\n",
        "plt.plot(t3,mb3)\n",
        "plt.vlines(400,34.4*1000,55.86291029*1000)\n",
        "plt.vlines(108,107.4307692*1000,128.4307692*1000)\n",
        "plt.xlabel(\"time (sec)\")\n",
        "plt.ylabel(\"Mass (kg)\")\n",
        "plt.title(\"Burn Profile v/s time\")\n",
        "plt.legend(['vertical ascent',\"constant q\",'constant t/m'])"
      ],
      "execution_count": 6,
      "outputs": [
        {
          "output_type": "execute_result",
          "data": {
            "text/plain": [
              "<matplotlib.legend.Legend at 0x7f80ff947c90>"
            ]
          },
          "metadata": {
            "tags": []
          },
          "execution_count": 6
        },
        {
          "output_type": "display_data",
          "data": {
            "image/png": "[encoded data removed]",
            "text/plain": [
              "<Figure size 432x288 with 1 Axes>"
            ]
          },
          "metadata": {
            "tags": [],
            "needs_background": "light"
          }
        }
      ]
    }
  ]
}