{
 "cells": [
  {
   "cell_type": "code",
   "execution_count": null,
   "metadata": {},
   "outputs": [],
   "source": [
    "import cv2\n",
    "from PIL import Image\n",
    "from PIL import ImageFilter\n",
    "from PIL import ImageDraw\n",
    "from PIL import ImageEnhance\n",
    "from bina import *\n",
    "import pytesseract as tess\n",
    "tess.pytesseract.tesseract_cmd=r'C:\\Program Files\\Tesseract-OCR\\tesseract.exe'"
   ]
  },
  {
   "cell_type": "code",
   "execution_count": null,
   "metadata": {},
   "outputs": [],
   "source": [
    "print(\"Hello There!\")\n",
    "print('Press','\\033[1m','SPACE','\\033[0m','for taking a fresh snap')\n",
    "print('Press','\\033[1m','ESCAPE','\\033[0m','for using a previosly saved image')"
   ]
  },
  {
   "cell_type": "code",
   "execution_count": null,
   "metadata": {
    "scrolled": true
   },
   "outputs": [],
   "source": [
    "cam = cv2.VideoCapture(0)\n",
    "while True:\n",
    "    ret, frame = cam.read()\n",
    "    if not ret:\n",
    "        print(\"Failed to grab frame\")\n",
    "        break\n",
    "    cv2.imshow(\"frame\", frame)\n",
    "    k = cv2.waitKey(1)\n",
    "    if k%256 == 32:\n",
    "        # SPACE pressed\n",
    "        img_name = \"my_pic.png\"\n",
    "        cv2.imwrite(img_name, frame)\n",
    "        print(f\"{img_name} written!\")\n",
    "        break\n",
    "    elif k%256 == 27:\n",
    "        # ESC pressed\n",
    "        print(\"Escape hit, closing...\")\n",
    "        break\n",
    "\n",
    "cam.release()\n",
    "cv2.destroyAllWindows()"
   ]
  },
  {
   "cell_type": "code",
   "execution_count": null,
   "metadata": {},
   "outputs": [],
   "source": [
    "img = Image.open(\"my_pic.png\") "
   ]
  },
  {
   "cell_type": "code",
   "execution_count": null,
   "metadata": {},
   "outputs": [],
   "source": [
    "width=img.width\n",
    "height=img.height\n",
    "mode=img.mode\n",
    "print(\"{}x{}  {}\".format(width,height,mode))"
   ]
  },
  {
   "cell_type": "code",
   "execution_count": null,
   "metadata": {},
   "outputs": [],
   "source": [
    "bunch=[]\n",
    "bunch.append(img)\n",
    "bunch.append(img.convert('L'))\n",
    "bunch.append(img.convert('1'))\n",
    "\n",
    "enhancer = ImageEnhance.Color(img)\n",
    "bunch.append(enhancer.enhance(0.25))\n",
    "bunch.append(enhancer.enhance(0.75))\n",
    "\n",
    "enhancer = ImageEnhance.Contrast(img)\n",
    "bunch.append(enhancer.enhance(0.75))\n",
    "\n",
    "enhancer = ImageEnhance.Brightness(img)\n",
    "bunch.append(enhancer.enhance(0.25))\n",
    "bunch.append(enhancer.enhance(0.75))\n",
    "\n",
    "bunch.append(binarize(img, 100))"
   ]
  },
  {
   "cell_type": "code",
   "execution_count": null,
   "metadata": {},
   "outputs": [],
   "source": [
    "from PIL import Image\n",
    "# creating a blank image\n",
    "sheet=Image.new(mode,(3*width,3*height))\n",
    "for x in range(3):\n",
    "    for y in range(3):\n",
    "        sheet.paste(bunch[x + 3*y], (width * x, height * y))\n",
    "sheet.show()"
   ]
  },
  {
   "cell_type": "code",
   "execution_count": null,
   "metadata": {},
   "outputs": [],
   "source": [
    "text=[]\n",
    "for i in bunch:\n",
    "    text.append(tess.image_to_string(i))"
   ]
  },
  {
   "cell_type": "code",
   "execution_count": null,
   "metadata": {},
   "outputs": [],
   "source": [
    "for i in text:\n",
    "    print(i)"
   ]
  }
 ],
 "metadata": {
  "kernelspec": {
   "display_name": "Python 3",
   "language": "python",
   "name": "python3"
  },
  "language_info": {
   "codemirror_mode": {
    "name": "ipython",
    "version": 3
   },
   "file_extension": ".py",
   "mimetype": "text/x-python",
   "name": "python",
   "nbconvert_exporter": "python",
   "pygments_lexer": "ipython3",
   "version": "3.8.4"
  }
 },
 "nbformat": 4,
 "nbformat_minor": 4
}
